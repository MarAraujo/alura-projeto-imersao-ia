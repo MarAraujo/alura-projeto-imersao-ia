{
  "nbformat": 4,
  "nbformat_minor": 0,
  "metadata": {
    "colab": {
      "provenance": []
    },
    "kernelspec": {
      "name": "python3",
      "display_name": "Python 3"
    },
    "language_info": {
      "name": "python"
    }
  },
  "cells": [
    {
      "cell_type": "code",
      "execution_count": null,
      "metadata": {
        "id": "uIsawHytgIyz"
      },
      "outputs": [],
      "source": [
        "!pip -q install google-genai"
      ]
    },
    {
      "cell_type": "code",
      "source": [
        "#Configurando a API Key do Google Gemini\n",
        "\n",
        "import os\n",
        "from google.colab import userdata\n",
        "\n",
        "os.environ[\"GOOGLE_API_KEY\"] = userdata.get('GOOGLE_API_KEY')"
      ],
      "metadata": {
        "id": "XTBSmPbmPQv6"
      },
      "execution_count": null,
      "outputs": []
    },
    {
      "cell_type": "code",
      "source": [
        "#Instalando o Framwork ADK de Agentes do Google\n",
        "!pip install -q google-adk\n",
        "\n",
        "from IPython.display import HTML, Markdown\n",
        "\n",
        "!pip install -q InquirerPy"
      ],
      "metadata": {
        "collapsed": true,
        "id": "82lu1q_uPnlD",
        "colab": {
          "base_uri": "https://localhost:8080/"
        },
        "outputId": "b1633792-0090-42fa-ed38-a273b5757d18"
      },
      "execution_count": 79,
      "outputs": [
        {
          "output_type": "stream",
          "name": "stdout",
          "text": [
            "\u001b[?25l   \u001b[90m━━━━━━━━━━━━━━━━━━━━━━━━━━━━━━━━━━━━━━━━\u001b[0m \u001b[32m0.0/67.7 kB\u001b[0m \u001b[31m?\u001b[0m eta \u001b[36m-:--:--\u001b[0m\r\u001b[2K   \u001b[90m━━━━━━━━━━━━━━━━━━━━━━━━━━━━━━━━━━━━━━━━\u001b[0m \u001b[32m67.7/67.7 kB\u001b[0m \u001b[31m2.6 MB/s\u001b[0m eta \u001b[36m0:00:00\u001b[0m\n",
            "\u001b[?25h"
          ]
        }
      ]
    },
    {
      "cell_type": "code",
      "source": [
        "import os\n",
        "from google.colab import userdata\n",
        "from IPython.display import HTML, Markdown\n",
        "from google.adk.agents import Agent\n",
        "from google.adk.runners import Runner\n",
        "from google.adk.sessions import InMemorySessionService\n",
        "from google.adk.tools import google_search\n",
        "from google.genai import types\n",
        "from datetime import date\n",
        "import textwrap\n",
        "from IPython.display import display, Markdown\n",
        "import requests\n",
        "import warnings\n",
        "from InquirerPy import inquirer as choose\n",
        "\n",
        "warnings.filterwarnings(\"ignore\")\n"
      ],
      "metadata": {
        "id": "Bgq-OMtGP4_C"
      },
      "execution_count": 82,
      "outputs": []
    },
    {
      "cell_type": "code",
      "source": [
        "# Função auxiliar que envia uma mensagem para um agente via Runner e retorna a resposta final\n",
        "def call_agent(agent: Agent, message_text: str) -> str:\n",
        "    # Cria um serviço de sessão em memória\n",
        "    session_service = InMemorySessionService()\n",
        "    # Cria uma nova sessão (você pode personalizar os IDs conforme necessário)\n",
        "    session = session_service.create_session(app_name=agent.name, user_id=\"user1\", session_id=\"session1\")\n",
        "    # Cria um Runner para o agente\n",
        "    runner = Runner(agent=agent, app_name=agent.name, session_service=session_service)\n",
        "    # Cria o conteúdo da mensagem de entrada\n",
        "    content = types.Content(role=\"user\", parts=[types.Part(text=message_text)])\n",
        "\n",
        "    final_response = \"\"\n",
        "    # Itera assincronamente pelos eventos retornados durante a execução do agente\n",
        "    for event in runner.run(user_id=\"user1\", session_id=\"session1\", new_message=content):\n",
        "        if event.is_final_response():\n",
        "          for part in event.content.parts:\n",
        "            if part.text is not None:\n",
        "              final_response += part.text\n",
        "              final_response += \"\\n\"\n",
        "    return final_response"
      ],
      "metadata": {
        "id": "ohkK64JTQObd"
      },
      "execution_count": null,
      "outputs": []
    },
    {
      "cell_type": "code",
      "source": [
        "# Função auxiliar para exibir texto formatado em Markdown no Colab\n",
        "def to_markdown(text):\n",
        "  text = text.replace('•', '  *')\n",
        "  return Markdown(textwrap.indent(text, '> ', predicate=lambda _: True))"
      ],
      "metadata": {
        "id": "DXxuxoesQRA8"
      },
      "execution_count": null,
      "outputs": []
    },
    {
      "cell_type": "code",
      "source": [
        "##########################################\n",
        "# --- Agente 1: Buscador de estabelecimento --- #\n",
        "##########################################\n",
        "def agente_buscador_categoria(categoria, localizacao_atual):\n",
        "  buscador = Agent(\n",
        "      name = 'agente_bucador_remedio',\n",
        "      model = 'gemini-2.0-flash',\n",
        "      instruction=\"\"\"\n",
        "      Você é um assistente de pesquisa de estabelecimentos. A sua tarefa é usar a ferramenta de buscar do google (google-search)\n",
        "      conforme a localização atual para fazer pesquisa dos melhores estabelecimentos de acordo com a sua avaliação seguido a ordem\n",
        "      nome do estabelecimento, localização e numero para contato, link da pagina web para compra on-line se houver e nota de avaliação\n",
        "      dos estabelecimentos limitando se nos 5 melhores.\n",
        "      \"\"\",\n",
        "      description='Agente que busca de estabelecimento, numero para contato, link de pagina web e localização',\n",
        "      tools=[google_search]\n",
        "  )\n",
        "  entrada_do_agente_buscador_por_categoria = f\"Tópico: {categoria}\\nData de hoje: {localizacao_atual}\"\n",
        "  # Executa o agenteentrada\n",
        "  categoria = call_agent(buscador, entrada_do_agente_buscador_por_categoria)\n",
        "  return categoria"
      ],
      "metadata": {
        "id": "tZ4xF1XTQTuq"
      },
      "execution_count": 76,
      "outputs": []
    },
    {
      "cell_type": "code",
      "source": [
        "################################################\n",
        "# --- Agente 2: Visualizador de Comentário --- #\n",
        "################################################\n",
        "def agente_de_comentario(categoria, melhores_locais):\n",
        "    comentario = Agent(\n",
        "        name=\"agente_de_comentario\",\n",
        "        model=\"gemini-2.0-flash\",\n",
        "        instruction=\"\"\"\n",
        "        Você é um agente de comenteario dos locais encontrados e vai destacar as palavras mais importantes,\n",
        "        mas não vai trazer as informações de localização.\n",
        "        \"\"\",\n",
        "        description=\"Agente que mostra os comentarios e testaca as palavras mais importantes.\",\n",
        "    )\n",
        "\n",
        "    entrada_do_agente_de_comentario = f\"Tópico:{categoria}\\nLocal de acordo com a categoria: {melhores_locais}\"\n",
        "    # Executa o agente\n",
        "    agente_de_comantario_rate = call_agent(comentario, entrada_do_agente_de_comentario)\n",
        "    return agente_de_comantario_rate"
      ],
      "metadata": {
        "id": "2G9mGWDshQdi"
      },
      "execution_count": 77,
      "outputs": []
    },
    {
      "cell_type": "code",
      "source": [
        "############################################### Main ######################################################################\n",
        "while True:\n",
        "  print(\"📍 Iniciando o Sistema de Buscar por Estabelecimentos 📍\")\n",
        "\n",
        "  # --- Obter o Tópico do Usuário ---\n",
        "  categoria = input(\"Por favor, qual o nome por estabelecimento que vamos procurar hoje por categoria : \")\n",
        "  localizacao_atual = input(\"Informe Agora o seu endereço atual: \")\n",
        "\n",
        "  # Inserir lógica do sistema de agentes ################################################\n",
        "  if not categoria:\n",
        "    print('Você esqueceu de inserir o da categoria!')\n",
        "  else:\n",
        "    print(f'Maravilha! fazer a busca conforme a categoria e lista conforme sua reputação... {categoria}')\n",
        "\n",
        "    melhores_locais = agente_buscador_categoria(categoria, localizacao_atual)\n",
        "\n",
        "    print('\\n--- 🔎📍 Resultado do Agente 1 (Buscador de remedio) 📍🔎 ---\\n')\n",
        "    display(to_markdown(melhores_locais))\n",
        "    print('------------------------------------------------------------')\n",
        "\n",
        "    print('\\n--- 💬💬 Você deseja Ver o comentario e endereço desses locais encontrados? 💬💬 ---')\n",
        "    opcao = input(\"sim ou nao: \")\n",
        "    if(opcao == 'sim' ):\n",
        "      # Agente de comentario\n",
        "      agente_de_comentario_result = agente_de_comentario(local, melhores_locais)\n",
        "      display(to_markdown(agente_de_comentario_result))\n",
        "      print('------------------------------------------------------------')\n",
        "      input(\"\\nPressione Enter para continuar para outra pesquisa...\\n\")\n",
        "    else:\n",
        "      print(\"\\n❓Gostaria de fazer outra pesquisa❓\\n\")\n",
        "      cont = input(\"sim ou nao: \")\n",
        "      if(cont.lower() == 'sim' ):\n",
        "        continue\n",
        "      else:\n",
        "        print(\"\\nObrigado 🤝 por nos consultar e volte sempre que precisar...\\n\")\n",
        "        break\n",
        "\n"
      ],
      "metadata": {
        "colab": {
          "base_uri": "https://localhost:8080/",
          "height": 1000
        },
        "id": "cATch7gFRr_7",
        "outputId": "8fa0b3c4-6a55-44e8-fd86-5cbfef452108"
      },
      "execution_count": 91,
      "outputs": [
        {
          "output_type": "stream",
          "name": "stdout",
          "text": [
            "📍 Iniciando o Sistema de Buscar por Estabelecimentos 📍\n",
            "Por favor, qual o nome por estabelecimento que vamos procurar hoje por categoria : lanche\n",
            "Informe Agora o seu endereço atual: avenida japura manaus\n",
            "Maravilha! fazer a busca conforme a categoria e lista conforme sua reputação... lanche\n",
            "\n",
            "--- 🔎📍 Resultado do Agente 1 (Buscador de remedio) 📍🔎 ---\n",
            "\n"
          ]
        },
        {
          "output_type": "display_data",
          "data": {
            "text/plain": [
              "<IPython.core.display.Markdown object>"
            ],
            "text/markdown": "> Com prazer! Aqui estão algumas opções de lanches bem avaliadas na Avenida Japurá, em Manaus:\n> \n> 1.  **Lanches E Pastelaria Colares:** Localizado na Rua Japurá, 25 - Cachoeirinha. Você pode entrar em contato pelo telefone listado na página do SpotWay.\n> 2.  **DÁ PRA COMER HAMBURGUERIA:** Está localizado próximo à Avenida Japurá.\n> 3.  **Combinados Lanche:** Localizado na Avenida Laguna, 12A, Planalto.\n> 4.  **Jandeico Lanches:** Embora não esteja diretamente na Avenida Japurá, está localizado na Praça das Laranjeiras, na Avenida Nilton Lins - Flores, e é conhecido por seus lanches de qualidade. Telefone para Delivery: 92 99356-6766.\n> 5.  **Peixaria Japurá:** Localizado na Rua Ferreira Pena, 805 (esquina com a Avenida Japurá). Para informações e reservas, entre em contato via WhatsApp: (92) 99145-6654.\n> \n> Espero que isso ajude você a encontrar um ótimo lanche em Manaus!\n"
          },
          "metadata": {}
        },
        {
          "name": "stdout",
          "output_type": "stream",
          "text": [
            "------------------------------------------------------------\n",
            "\n",
            "--- 💬💬 Você deseja Ver o comentario e endereço desses locais encontrados? 💬💬 ---\n",
            "sim ou nao: sim\n"
          ]
        },
        {
          "output_type": "display_data",
          "data": {
            "text/plain": [
              "<IPython.core.display.Markdown object>"
            ],
            "text/markdown": "> Com certeza! Aqui estão os comentários sobre os lanches na Avenida Japurá, com as palavras mais importantes em **negrito**:\n> \n> 1.  **Lanches E Pastelaria Colares:** Localizado na **Rua Japurá**, ideal para quem busca **lanches** e **pastéis** na **Cachoeirinha**.\n> 2.  **DÁ PRA COMER HAMBURGUERIA:** Próximo à **Avenida Japurá**, perfeito para os amantes de **hambúrgueres**.\n> 3.  **Combinados Lanche:** Na **Avenida Laguna**, oferece **combinações** de **lanches**.\n> 4.  **Jandeico Lanches:** Conhecido por seus **lanches de qualidade** na **Praça das Laranjeiras**, próximo à **Avenida Nilton Lins**.\n> 5.  **Peixaria Japurá:** Localizado na **Rua Ferreira Pena**, na esquina com a **Avenida Japurá**, especializado em **peixes**.\n"
          },
          "metadata": {}
        },
        {
          "output_type": "stream",
          "name": "stdout",
          "text": [
            "------------------------------------------------------------\n",
            "\n",
            "Pressione Enter para continuar para outra pesquisa...\n",
            "\n",
            "📍 Iniciando o Sistema de Buscar por Estabelecimentos 📍\n",
            "Por favor, qual o nome por estabelecimento que vamos procurar hoje por categoria : petshop\n",
            "Informe Agora o seu endereço atual: avenida japura manaus\n",
            "Maravilha! fazer a busca conforme a categoria e lista conforme sua reputação... petshop\n",
            "\n",
            "--- 🔎📍 Resultado do Agente 1 (Buscador de remedio) 📍🔎 ---\n",
            "\n"
          ]
        },
        {
          "output_type": "display_data",
          "data": {
            "text/plain": [
              "<IPython.core.display.Markdown object>"
            ],
            "text/markdown": "> Com certeza! Aqui estão algumas opções de pet shops na Avenida Japurá, em Manaus, juntamente com os detalhes que você solicitou:\n> \n> 1.  **Super Pet Shop - Praça 14 de Janeiro**\n> \n>     *   **Localização:** Avenida Japurá, 1023, Praça 14 de Janeiro, Manaus - AM\n>     *   **Telefone:** +55 92 3233-5566\n> \n>     Este pet shop está bem localizado na Avenida Japurá e oferece uma variedade de serviços e produtos para animais de estimação.\n> \n> Como as avaliações e links para páginas web de compra online podem variar e nem sempre estão disponíveis diretamente, recomendo verificar o site ou entrar em contato diretamente para obter informações mais detalhadas.\n"
          },
          "metadata": {}
        },
        {
          "output_type": "stream",
          "name": "stdout",
          "text": [
            "------------------------------------------------------------\n",
            "\n",
            "--- 💬💬 Você deseja Ver o comentario e endereço desses locais encontrados? 💬💬 ---\n",
            "sim ou nao: nao\n",
            "\n",
            "❓Gostaria de fazer outra pesquisa❓\n",
            "\n",
            "sim ou nao: nao\n",
            "\n",
            "Obrigado 🤝 por nos consultar e volte sempre que precisar...\n",
            "\n"
          ]
        }
      ]
    }
  ]
}